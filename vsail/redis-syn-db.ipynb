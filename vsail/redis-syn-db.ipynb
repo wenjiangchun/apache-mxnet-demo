{
 "cells": [
  {
   "cell_type": "code",
   "execution_count": null,
   "metadata": {},
   "outputs": [],
   "source": [
    "#处理redis初始化从数据库中加载车辆信息以及定时将redis最新数据同步到数据库\n",
    "import redis\n",
    "import sched\n",
    "import time\n",
    "import psycopg2 as pg\n",
    "import requests as req\n",
    "import logging\n",
    "import configparser"
   ]
  },
  {
   "cell_type": "code",
   "execution_count": null,
   "metadata": {
    "scrolled": true
   },
   "outputs": [],
   "source": [
    "logging.basicConfig(filename=\"redis-syn.log\", filemode=\"w\", format=\"%(asctime)s %(name)s:%(levelname)s:%(message)s\", datefmt=\"%Y-%M-%d %H:%M:%S\", level=logging.INFO)\n",
    "parser = configparser.ConfigParser()\n",
    "parser.read('application.ini')\n",
    "logging.info('加载application.ini配置')\n",
    "#获取redis配置信息\n",
    "redis_host = parser.get('redis', 'host')\n",
    "bus_pos_key = parser.get('redis', 'bus_pos_key')\n",
    "syn_time = float(parser.get('redis', 'syn_time'))\n",
    "\n",
    "#获取postgresql配置信息\n",
    "pg_host = parser.get('postgresql', 'host')\n",
    "pg_user = parser.get('postgresql', 'user')\n",
    "pg_password = parser.get('postgresql', 'password')\n",
    "pg_database = parser.get('postgresql', 'database')"
   ]
  },
  {
   "cell_type": "code",
   "execution_count": null,
   "metadata": {},
   "outputs": [],
   "source": [
    "#初始化redis数据连接\n",
    "def init_redis(host):\n",
    "    try:\n",
    "        pool = redis.ConnectionPool(host=redis_host)\n",
    "        rd = redis.Redis(connection_pool=pool)\n",
    "        logging.info('redis已连接')\n",
    "        return rd\n",
    "    except Exception as ex:\n",
    "        logging.exception('redis初始化错误')"
   ]
  },
  {
   "cell_type": "code",
   "execution_count": null,
   "metadata": {},
   "outputs": [],
   "source": [
    "#初始化db数据连接\n",
    "def init_db(host, database, user_name, password):\n",
    "    try:\n",
    "        pgconn = pg.connect(database = database, user = user_name, password = password, host = host)\n",
    "        curs = pgconn.cursor()\n",
    "        logging.info('postgresql已连接')\n",
    "        return pgconn, curs\n",
    "    except Exception as ex:\n",
    "        logging.exception('postgresql初始化错误')   "
   ]
  },
  {
   "cell_type": "code",
   "execution_count": null,
   "metadata": {},
   "outputs": [],
   "source": [
    "def close(rd, pgconn, curs):\n",
    "    if (rd != null):\n",
    "        logging.info('redis已关闭')\n",
    "        rd.close()\n",
    "    if (curs != null):\n",
    "        curs.close()\n",
    "        pgconn.close()\n",
    "        logging.info('postgresql已关闭')"
   ]
  },
  {
   "cell_type": "code",
   "execution_count": null,
   "metadata": {},
   "outputs": [],
   "source": [
    "rd = init_redis(redis_host)\n",
    "conn, curs = init_db(pg_host, pg_database, pg_user, pg_password)"
   ]
  },
  {
   "cell_type": "code",
   "execution_count": null,
   "metadata": {},
   "outputs": [],
   "source": [
    "#TODO 缓存为2个 公交车基本信息 公交车当前位置信息\n",
    "query_bus_pos = 'select id, ST_X(geom), ST_Y(geom), ST_M(geom), name, update_time from v_bus_pos'\n",
    "query_bus = ''"
   ]
  },
  {
   "cell_type": "code",
   "execution_count": null,
   "metadata": {},
   "outputs": [],
   "source": [
    "def init_cache_from_db():\n",
    "    logging.info('从postgresql中加载车辆位置数据')\n",
    "    try:\n",
    "        curs.execute(sql)\n",
    "        data = curs.fetchall()\n",
    "        for d in data:\n",
    "            id = d[0]\n",
    "            x = d[1]\n",
    "            y = d[2]\n",
    "            m = d[3]\n",
    "            name = d[4]\n",
    "            update_time = d[5]\n",
    "            v = str(id) + '|' + str(x) + '|' + str(y) + '|' + str(m) + '|' + name + '|' + str(update_time)\n",
    "            #TODO 考虑各公交公司车辆以单位分开存放\n",
    "            rd.hset(name= bus_pos_key, key= id, value= v)\n",
    "        logging.info('从postgresql中加载车辆数据已成功')\n",
    "    except Exception as ex:\n",
    "         logging.exception('初始化缓存出错')   "
   ]
  },
  {
   "cell_type": "code",
   "execution_count": null,
   "metadata": {},
   "outputs": [],
   "source": [
    "#首先重新加载缓存\n",
    "init_cache_from_db()"
   ]
  },
  {
   "cell_type": "code",
   "execution_count": null,
   "metadata": {},
   "outputs": [],
   "source": [
    "rest_url = 'http://localhost:8080/websocket/sendMessage?message='"
   ]
  },
  {
   "cell_type": "code",
   "execution_count": null,
   "metadata": {
    "scrolled": false
   },
   "outputs": [],
   "source": [
    "for key in rd.keys():\n",
    "    bus = rd.hgetall('buspos')\n",
    "    for k in bus:\n",
    "        req.post(rest_url + bus[k].decode())"
   ]
  },
  {
   "cell_type": "code",
   "execution_count": null,
   "metadata": {},
   "outputs": [],
   "source": [
    "#初始化定时任务\n",
    "s = sched.scheduler(time.time, time.sleep)"
   ]
  },
  {
   "cell_type": "code",
   "execution_count": null,
   "metadata": {},
   "outputs": [],
   "source": [
    "#缓存中新的数据同步到数据库  TODO\n",
    "def syn_to_db(time_rate):\n",
    "    print(\"From print_time\", time.time())\n",
    "    s.enter(time_rate,0,syn_to_db,(time_rate,))"
   ]
  },
  {
   "cell_type": "code",
   "execution_count": null,
   "metadata": {},
   "outputs": [],
   "source": [
    "#每隔五分钟执行一次\n",
    "if not conn is None:\n",
    "    s.enter(0,0, syn_to_db, (syn_time,))\n",
    "    s.run()"
   ]
  },
  {
   "cell_type": "code",
   "execution_count": null,
   "metadata": {},
   "outputs": [],
   "source": []
  }
 ],
 "metadata": {
  "kernelspec": {
   "display_name": "myjava",
   "language": "python",
   "name": "myjava"
  },
  "language_info": {
   "codemirror_mode": {
    "name": "ipython",
    "version": 3
   },
   "file_extension": ".py",
   "mimetype": "text/x-python",
   "name": "python",
   "nbconvert_exporter": "python",
   "pygments_lexer": "ipython3",
   "version": "3.7.0"
  }
 },
 "nbformat": 4,
 "nbformat_minor": 2
}
