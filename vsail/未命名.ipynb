{
 "cells": [
  {
   "cell_type": "code",
   "execution_count": 1,
   "metadata": {},
   "outputs": [],
   "source": [
    "import time\n",
    "import logging\n",
    "import configparser\n",
    "import pika"
   ]
  },
  {
   "cell_type": "code",
   "execution_count": 12,
   "metadata": {},
   "outputs": [
    {
     "name": "stdout",
     "output_type": "stream",
     "text": "('DEFAULT', <Section: DEFAULT>)\n('postgresql', <Section: postgresql>)\n('redis', <Section: redis>)\n('websocket', <Section: websocket>)\n('rabbitmq', <Section: rabbitmq>)\n('socket', <Section: socket>)\n"
    }
   ],
   "source": [
    "parser = configparser.ConfigParser()\n",
    "\n",
    "parser.read('vsail/application.ini')\n",
    "logging.info('加载application.ini配置')\n",
    "\n",
    "#获取rabbitmq配置信息\n",
    "rq_host = parser.get('rabbitmq', 'host')\n",
    "#实时消息使用队列名称\n",
    "rq_real_ex_name = parser.get('rabbitmq', 'rq_real_ex_name')\n",
    "#历史消息使用队列名称\n",
    "rq_his_ex_name =  parser.get('rabbitmq', 'rq_his_ex_name')"
   ]
  },
  {
   "cell_type": "code",
   "execution_count": 13,
   "metadata": {},
   "outputs": [],
   "source": [
    "parameters = pika.ConnectionParameters(rq_host, credentials=pika.credentials.PlainCredentials('admin','admin@vsail'), heartbeat=0)\n",
    "connection = pika.BlockingConnection(parameters)"
   ]
  },
  {
   "cell_type": "code",
   "execution_count": null,
   "metadata": {},
   "outputs": [],
   "source": [
    " channel = connection.channel()\n",
    " bus_data = 'hello'\n",
    " channel.basic_publish(exchange=rq_real_ex_name, routing_key='', body=str(bus_data))"
   ]
  }
 ],
 "metadata": {
  "kernelspec": {
   "display_name": "myjava",
   "language": "python",
   "name": "myjava"
  },
  "language_info": {
   "codemirror_mode": {
    "name": "ipython",
    "version": 3
   },
   "file_extension": ".py",
   "mimetype": "text/x-python",
   "name": "python",
   "nbconvert_exporter": "python",
   "pygments_lexer": "ipython3",
   "version": "3.7.0"
  }
 },
 "nbformat": 4,
 "nbformat_minor": 2
}