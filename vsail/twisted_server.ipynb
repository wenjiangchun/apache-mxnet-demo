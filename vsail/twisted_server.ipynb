{
 "cells": [
  {
   "cell_type": "code",
   "execution_count": 1,
   "metadata": {},
   "outputs": [],
   "source": [
    "from twisted.internet import protocol, reactor, endpoints\n",
    "from twisted.internet.protocol import Factory, connectionDone\n",
    "from twisted.protocols import basic\n",
    "from twisted.protocols import wire\n",
    "import time\n",
    "import logging\n",
    "import configparser\n",
    "import pika\n",
    "from vsail_data_parser import VsailDataParser"
   ]
  },
  {
   "cell_type": "code",
   "execution_count": 2,
   "metadata": {},
   "outputs": [],
   "source": [
    "#Vsail车辆数据接收服务\n",
    "class VsailServer(object):\n",
    "    def __init__(self):\n",
    "        logging.basicConfig(filename=\"twisted_server.log\", filemode=\"w\", format=\"%(asctime)s %(name)s:%(levelname)s:%(message)s\", datefmt=\"%Y-%M-%d %H:%M:%S\", level=logging.INFO)\n",
    "        parser = configparser.ConfigParser()\n",
    "        parser.read('application.ini')\n",
    "        logging.info('加载application.ini配置')\n",
    "\n",
    "        #获取rabbitmq配置信息\n",
    "        rq_host = parser.get('rabbitmq', 'host')\n",
    "        #实时消息使用队列名称\n",
    "        self.rq_real_ex_name = parser.get('rabbitmq', 'rq_real_ex_name')\n",
    "        #历史消息使用队列名称 TODO暂不处理历史消息\n",
    "        self.rq_his_ex_name =  parser.get('rabbitmq', 'rq_his_ex_name')\n",
    "\n",
    "        #获取socket配置信息\n",
    "        self.sk_host = parser.get('socket', 'host')\n",
    "        self.sk_port = int(parser.get('socket', 'port'))\n",
    "        self.init_rq = False\n",
    "        self.rq_conn = self.init_rabbitmq(rq_host)\n",
    "        \n",
    "    #初始化rabbitMQ\n",
    "    def init_rabbitmq(self, rq_host):\n",
    "        try:\n",
    "            parameters = pika.ConnectionParameters(rq_host, credentials=pika.credentials.PlainCredentials('admin','admin'), heartbeat=0)\n",
    "            connection = pika.BlockingConnection(parameters)\n",
    "            logging.info('rabbitmq已连接')\n",
    "            self.init_rq = True\n",
    "            return connection\n",
    "        except Exception as ex:\n",
    "            logging.exception('rabbitmq初始化错误')\n",
    "            #异常出错不再往下执行\n",
    "            raise Exception('rabbitmq初始化错误')\n",
    "            \n",
    "    def start(self):\n",
    "        if self.init_rq:\n",
    "            self.rt = reactor\n",
    "            endpoints.serverFromString(reactor, \"tcp:9999\").listen(VsailDataFactory(self.rq_conn, self.rq_real_ex_name))\n",
    "            reactor.run()\n",
    "            \n",
    "    def stop(self):\n",
    "        if self.init_rq:\n",
    "            self.rt.stop()\n",
    "            self.rq_conn.close()"
   ]
  },
  {
   "cell_type": "code",
   "execution_count": 3,
   "metadata": {},
   "outputs": [],
   "source": [
    "class VsailDataFactory(protocol.Factory):\n",
    "    def __init__(self, rq_conn, ex_name):\n",
    "        self.rq_conn = rq_conn\n",
    "        self.ex_name = ex_name\n",
    "    def buildProtocol(self, addr):\n",
    "        channel = self.rq_conn.channel()\n",
    "        print('创建channel')\n",
    "        return VsailDataHandler(channel, self.ex_name)"
   ]
  },
  {
   "cell_type": "code",
   "execution_count": 4,
   "metadata": {},
   "outputs": [],
   "source": [
    "class VsailDataHandler(basic.NetstringReceiver):\n",
    "    def __init__(self, channel, ex_name):\n",
    "        self.channel = channel\n",
    "        self.ex_name = ex_name\n",
    "        print('创建消息处理器')\n",
    "    def dataReceived(self, data):\n",
    "        print('开始接收消息...')\n",
    "        message = data.decode('utf-8',\"ignore\")\n",
    "        print(message)\n",
    "        if message == 'exit':\n",
    "            self.transport.loseConnection()\n",
    "        else:\n",
    "            try:\n",
    "                parser = VsailDataParser(message)\n",
    "                bus_data = parser.translate_to_json()\n",
    "                #self.channel.basic_publish(exchange=self.ex_name, routing_key='', body=str(bus_data))\n",
    "                self.channel.basic_publish(exchange=self.ex_name, routing_key='', body=message)\n",
    "                #如果是上线或下线 返回结果指令信息\n",
    "                if bus_data['type'] == 1 or bus_data['type'] == 2:\n",
    "                    self.transport.write('OK'.encode('utf-8'))\n",
    "                #else:\n",
    "                    #self.transport.write('OKK'.encode('utf-8'))\n",
    "            except Exception as ex:\n",
    "                self.transport.write('error'.encode('utf-8'))\n",
    "                #print(ex)\n",
    "    def connectionMade(self):  # 建立连接后的回调函数\n",
    "        #logging.info('客户端已连接')\n",
    "        print('客户端已连接')\n",
    "    def connectionLost(self, reason=connectionDone):  # 断开连接后的反应\n",
    "        #logging.info('客户端已断开')\n",
    "        print('客户端已断开')\n",
    "        self.channel.close()\n",
    "        "
   ]
  },
  {
   "cell_type": "code",
   "execution_count": null,
   "metadata": {},
   "outputs": [],
   "source": [
    "if __name__ == '__main__':\n",
    "    vsail_server = VsailServer()\n",
    "    vsail_server.start()"
   ]
  },
  {
   "cell_type": "code",
   "execution_count": null,
   "metadata": {},
   "outputs": [],
   "source": [
    "#vsail_server.stop()"
   ]
  },
  {
   "cell_type": "code",
   "execution_count": null,
   "metadata": {},
   "outputs": [],
   "source": [
    "reactor.stop()"
   ]
  },
  {
   "cell_type": "code",
   "execution_count": null,
   "metadata": {},
   "outputs": [],
   "source": []
  }
 ],
 "metadata": {
  "kernelspec": {
   "display_name": "myjava",
   "language": "python",
   "name": "myjava"
  },
  "language_info": {
   "codemirror_mode": {
    "name": "ipython",
    "version": 3
   },
   "file_extension": ".py",
   "mimetype": "text/x-python",
   "name": "python",
   "nbconvert_exporter": "python",
   "pygments_lexer": "ipython3",
   "version": "3.7.0"
  }
 },
 "nbformat": 4,
 "nbformat_minor": 2
}