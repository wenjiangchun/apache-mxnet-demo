{
 "cells": [
  {
   "cell_type": "code",
   "execution_count": 50,
   "metadata": {},
   "outputs": [],
   "source": [
    "#处理redis初始化从数据库中加载车辆信息以及定时将redis最新数据同步到数据库\n",
    "import redis\n",
    "import sched\n",
    "import time\n",
    "import psycopg2 as pg\n",
    "import requests as req\n",
    "import logging\n",
    "import configparser\n",
    "import pika"
   ]
  },
  {
   "cell_type": "code",
   "execution_count": 87,
   "metadata": {
    "scrolled": true
   },
   "outputs": [],
   "source": [
    "logging.basicConfig(filename=\"redis-mq.log\", filemode=\"w\", format=\"%(asctime)s %(name)s:%(levelname)s:%(message)s\", datefmt=\"%Y-%M-%d %H:%M:%S\", level=logging.INFO)\n",
    "parser = configparser.ConfigParser()\n",
    "parser.read('application.ini')\n",
    "logging.info('加载application.ini配置')\n",
    "\n",
    "#获取redis配置信息\n",
    "redis_host = parser.get('redis', 'host')\n",
    "bus_pos_key = parser.get('redis', 'bus_pos_key')\n",
    "syn_time = float(parser.get('redis', 'syn_time'))\n",
    "\n",
    "#获取postgresql配置信息\n",
    "pg_host = parser.get('postgresql', 'host')\n",
    "pg_user = parser.get('postgresql', 'user')\n",
    "pg_password = parser.get('postgresql', 'password')\n",
    "pg_database = parser.get('postgresql', 'database')\n",
    "\n",
    "#获取rabbitmq配置信息\n",
    "rq_host = parser.get('rabbitmq', 'host')\n",
    "rq_queue_name = parser.get('rabbitmq', 'queue_name')"
   ]
  },
  {
   "cell_type": "code",
   "execution_count": 52,
   "metadata": {},
   "outputs": [],
   "source": [
    "#初始化redis数据连接\n",
    "def init_redis(host):\n",
    "    try:\n",
    "        pool = redis.ConnectionPool(host=redis_host)\n",
    "        rd = redis.Redis(connection_pool=pool)\n",
    "        logging.info('redis已连接')\n",
    "        return rd\n",
    "    except Exception as ex:\n",
    "        logging.exception('redis初始化错误')"
   ]
  },
  {
   "cell_type": "code",
   "execution_count": 53,
   "metadata": {},
   "outputs": [],
   "source": [
    "#初始化db数据连接\n",
    "def init_db(host, database, user_name, password):\n",
    "    try:\n",
    "        pgconn = pg.connect(database = database, user = user_name, password = password, host = host)\n",
    "        curs = pgconn.cursor()\n",
    "        logging.info('postgresql已连接')\n",
    "        return pgconn, curs\n",
    "    except Exception as ex:\n",
    "        logging.exception('postgresql初始化错误')   "
   ]
  },
  {
   "cell_type": "code",
   "execution_count": null,
   "metadata": {},
   "outputs": [],
   "source": [
    "#初始化rabbitmq连接\n",
    "def init_rabbitmq(host):\n",
    "    try:\n",
    "        parameters = pika.ConnectionParameters(rq_host, credentials=pika.credentials.PlainCredentials('admin','admin'), heartbeat=0)\n",
    "        connection = pika.BlockingConnection(parameters)\n",
    "        logging.info('rabbitmq已连接')\n",
    "        return connection\n",
    "        return pgconn, curs\n",
    "    except Exception as ex:\n",
    "        logging.exception('rabbitmq初始化错误') "
   ]
  },
  {
   "cell_type": "code",
   "execution_count": 55,
   "metadata": {},
   "outputs": [],
   "source": [
    "def close(rd, pgconn, curs, rqconn):\n",
    "    if not rd is None:\n",
    "        logging.info('redis已关闭')\n",
    "        rd.close()\n",
    "    if not curs is None:\n",
    "        curs.close()\n",
    "        pgconn.close()\n",
    "        logging.info('postgresql已关闭')\n",
    "    if not rqconn is None:\n",
    "        rqconn.close()\n",
    "        logging.info('rq已关闭')"
   ]
  },
  {
   "cell_type": "code",
   "execution_count": 75,
   "metadata": {},
   "outputs": [],
   "source": [
    "rd = init_redis(redis_host)\n",
    "conn, curs = init_db(pg_host, pg_database, pg_user, pg_password)\n",
    "rqconn = init_rabbitmq(rq_host)"
   ]
  },
  {
   "cell_type": "code",
   "execution_count": null,
   "metadata": {},
   "outputs": [],
   "source": [
    "#定义消息接受处理业务\n",
    "def on_message(channel, method_frame, header_frame, body):\n",
    "    #res.set(str(method_frame.delivery_tag), str(method_frame.delivery_tag))\n",
    "    try:\n",
    "        #TODO 处理消息 此处需要获取车辆机构信息(从缓存中直接获取，如果缓存中没有从数据库中获取)\n",
    "        #上线 下线既时更新数据库\n",
    "        channel.basic_ack(delivery_tag=method_frame.delivery_tag)\n",
    "    except Exception as ex:\n",
    "        logging.exception('消息处理失败,忽略')  "
   ]
  },
  {
   "cell_type": "code",
   "execution_count": null,
   "metadata": {},
   "outputs": [],
   "source": [
    "channel = rqconn.channel()\n",
    "channel.basic_consume(rq_queue_name, on_message)\n",
    "try:\n",
    "    logging.info('开始监听mq消息队列...')  \n",
    "    channel.start_consuming()\n",
    "except Exception as ex:\n",
    "    channel.stop_consuming()\n",
    "    close(rd, conn, curs, rqconn)\n",
    "    logging.exception('mq任务监听失败')   "
   ]
  }
 ],
 "metadata": {
  "kernelspec": {
   "display_name": "myjava",
   "language": "python",
   "name": "myjava"
  },
  "language_info": {
   "codemirror_mode": {
    "name": "ipython",
    "version": 3
   },
   "file_extension": ".py",
   "mimetype": "text/x-python",
   "name": "python",
   "nbconvert_exporter": "python",
   "pygments_lexer": "ipython3",
   "version": "3.7.0"
  }
 },
 "nbformat": 4,
 "nbformat_minor": 2
}
