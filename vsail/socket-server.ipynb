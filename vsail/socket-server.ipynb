{
 "cells": [
  {
   "cell_type": "code",
   "execution_count": null,
   "metadata": {},
   "outputs": [],
   "source": [
    "#处理redis初始化从数据库中加载车辆信息以及定时将redis最新数据同步到数据库\n",
    "import time\n",
    "import logging\n",
    "import configparser\n",
    "import pika\n",
    "import socketserver\n",
    "import socket\n",
    "from vsail_data_parser import VsailDataParser"
   ]
  },
  {
   "cell_type": "code",
   "execution_count": null,
   "metadata": {
    "scrolled": true
   },
   "outputs": [],
   "source": [
    "logging.basicConfig(filename=\"socket-server.log\", filemode=\"w\", format=\"%(asctime)s %(name)s:%(levelname)s:%(message)s\", datefmt=\"%Y-%M-%d %H:%M:%S\", level=logging.INFO)\n",
    "parser = configparser.ConfigParser()\n",
    "parser.read('application.ini')\n",
    "logging.info('加载application.ini配置')\n",
    "\n",
    "#获取rabbitmq配置信息\n",
    "rq_host = parser.get('rabbitmq', 'host')\n",
    "#实时消息使用队列名称\n",
    "rq_real_ex_name = parser.get('rabbitmq', 'rq_real_ex_name')\n",
    "#历史消息使用队列名称\n",
    "rq_his_ex_name =  parser.get('rabbitmq', 'rq_his_ex_name')\n",
    "\n",
    "#获取socket配置信息\n",
    "sk_host = parser.get('socket', 'host')\n",
    "sk_port = int(parser.get('socket', 'port'))"
   ]
  },
  {
   "cell_type": "code",
   "execution_count": null,
   "metadata": {},
   "outputs": [],
   "source": [
    "#初始化rabbitmq连接\n",
    "def init_rabbitmq(host):\n",
    "    try:\n",
    "        parameters = pika.ConnectionParameters(rq_host, credentials=pika.credentials.PlainCredentials('admin','admin'), heartbeat=0)\n",
    "        connection = pika.BlockingConnection(parameters)\n",
    "        logging.info('rabbitmq已连接')\n",
    "        return connection\n",
    "    except Exception as ex:\n",
    "        logging.exception('rabbitmq初始化错误')\n",
    "        #异常出错不再往下执行\n",
    "        raise Exception('rabbitmq初始化错误')"
   ]
  },
  {
   "cell_type": "code",
   "execution_count": null,
   "metadata": {},
   "outputs": [],
   "source": [
    "rqconn = init_rabbitmq(rq_host)\n",
    "channel = rqconn.channel()"
   ]
  },
  {
   "cell_type": "code",
   "execution_count": null,
   "metadata": {},
   "outputs": [],
   "source": [
    "#创建socket服务\n",
    "sokt = socket.socket(socket.AF_INET, socket.SOCK_STREAM)\n",
    "sokt.bind((sk_host, sk_port))\n",
    "sokt.listen(1)\n",
    "open = True"
   ]
  },
  {
   "cell_type": "code",
   "execution_count": null,
   "metadata": {},
   "outputs": [],
   "source": [
    "while open:\n",
    "    conn,addr = sokt.accept()\n",
    "    logging.info(\"connected by\", addr)\n",
    "    #首次需要校验身份\n",
    "    flag = True\n",
    "    #重新尝试次数\n",
    "    repeat = 0\n",
    "    while True:\n",
    "        try:\n",
    "            cmd = conn.recv(1024)\n",
    "            message = cmd.decode('utf-8',\"ignore\")\n",
    "            if(flag):\n",
    "                logging.info('校验登陆信息')\n",
    "                login_user = message.split('#')\n",
    "                if repeat > 3:\n",
    "                    logging.info('失败次数太多，请重新连接')\n",
    "                    conn.sendall('失败次数太多，请重新连接'.encode('utf-8'))\n",
    "                    conn.close()\n",
    "                    break\n",
    "                if len(login_user) != 2:\n",
    "                    logging.info('非法用户名密码')\n",
    "                    conn.sendall('非法用户名密码'.encode('utf-8'))\n",
    "                    repeat += 1;\n",
    "                    #break\n",
    "                elif login_user[0] != 'admin':\n",
    "                    logging.info('用户名不正确')\n",
    "                    conn.sendall('用户名不正确'.encode('utf-8'))\n",
    "                    repeat += 1;\n",
    "                    #break\n",
    "                elif login_user[1] != 'admin':\n",
    "                    logging.info('密码不正确')\n",
    "                    conn.sendall('密码不正确'.encode('utf-8'))\n",
    "                    repeat += 1;\n",
    "                    #break\n",
    "                else:\n",
    "                    flag = False\n",
    "                    logging.info('登陆成功，开始接收消息')\n",
    "                    conn.sendall('OK'.encode('utf-8'))\n",
    "            else:\n",
    "                #cmd_status, cmd_res = subprocess.getstatusoutput(cmd.decode('utf-8'))\n",
    "                \n",
    "                #判断是否是命令还是应答，如果是应答接收验证成功后需要回复 TODO\n",
    "                parser = VsailDataParser(message)\n",
    "                bus_data = parser.translate_to_json()\n",
    "                #print(bus_data)\n",
    "                channel.basic_publish(exchange=rq_real_ex_name, routing_key='', body=str(bus_data))\n",
    "                #channel.basic_publish(exchange=rq_real_ex_name, routing_key='', body=message)\n",
    "                conn.sendall('OK'.encode('utf-8'))\n",
    "        except Exception as ex:\n",
    "            logging.exception('接受消息出错')\n",
    "            break"
   ]
  },
  {
   "cell_type": "code",
   "execution_count": null,
   "metadata": {},
   "outputs": [],
   "source": [
    "def close():\n",
    "    global open\n",
    "    open = False\n",
    "    sokt.shutdown(2)\n",
    "    sokt.close()"
   ]
  },
  {
   "cell_type": "code",
   "execution_count": null,
   "metadata": {},
   "outputs": [],
   "source": [
    "close()"
   ]
  },
  {
   "cell_type": "code",
   "execution_count": null,
   "metadata": {},
   "outputs": [],
   "source": []
  }
 ],
 "metadata": {
  "kernelspec": {
   "display_name": "myjava",
   "language": "python",
   "name": "myjava"
  },
  "language_info": {
   "codemirror_mode": {
    "name": "ipython",
    "version": 3
   },
   "file_extension": ".py",
   "mimetype": "text/x-python",
   "name": "python",
   "nbconvert_exporter": "python",
   "pygments_lexer": "ipython3",
   "version": "3.7.0"
  }
 },
 "nbformat": 4,
 "nbformat_minor": 2
}
