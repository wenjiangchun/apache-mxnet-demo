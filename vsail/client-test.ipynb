{
 "cells": [
  {
   "cell_type": "code",
   "execution_count": 1,
   "metadata": {},
   "outputs": [],
   "source": [
    "#处理redis初始化从数据库中加载车辆信息以及定时将redis最新数据同步到数据库\n",
    "import time\n",
    "import logging\n",
    "import configparser\n",
    "import pika\n",
    "import socketserver\n",
    "import socket\n",
    "import pandas as pd"
   ]
  },
  {
   "cell_type": "code",
   "execution_count": 2,
   "metadata": {},
   "outputs": [],
   "source": [
    "logging.basicConfig(filename=\"rabbitmq-receiver.log\", filemode=\"w\", format=\"%(asctime)s %(name)s:%(levelname)s:%(message)s\", datefmt=\"%Y-%M-%d %H:%M:%S\", level=logging.INFO)\n"
   ]
  },
  {
   "cell_type": "code",
   "execution_count": 4,
   "metadata": {},
   "outputs": [],
   "source": [
    "#创建socket服务\n",
    "sokt = socket.socket(socket.AF_INET, socket.SOCK_STREAM)\n",
    "sokt.connect(('47.94.225.139',9999)) "
   ]
  },
  {
   "cell_type": "code",
   "execution_count": 4,
   "metadata": {},
   "outputs": [],
   "source": [
    "#user = 'admin#admin'\n",
    "#sokt.send(user.encode('utf-8')) #发消息\n",
    "#back_msg = sokt.recv(1024)\n",
    "#print(back_msg.decode('utf-8'))"
   ]
  },
  {
   "cell_type": "code",
   "execution_count": 6,
   "metadata": {},
   "outputs": [
    {
     "ename": "KeyboardInterrupt",
     "evalue": "",
     "output_type": "error",
     "traceback": [
      "\u001b[0;31m---------------------------------------------------------------------------\u001b[0m",
      "\u001b[0;31mKeyboardInterrupt\u001b[0m                         Traceback (most recent call last)",
      "\u001b[0;32m<ipython-input-6-1afc67487349>\u001b[0m in \u001b[0;36m<module>\u001b[0;34m\u001b[0m\n\u001b[1;32m     12\u001b[0m         \u001b[0;32mfor\u001b[0m \u001b[0mi\u001b[0m \u001b[0;32min\u001b[0m \u001b[0mrange\u001b[0m\u001b[0;34m(\u001b[0m\u001b[0;36m100\u001b[0m\u001b[0;34m)\u001b[0m\u001b[0;34m:\u001b[0m\u001b[0;34m\u001b[0m\u001b[0m\n\u001b[1;32m     13\u001b[0m             \u001b[0msokt\u001b[0m\u001b[0;34m.\u001b[0m\u001b[0msend\u001b[0m\u001b[0;34m(\u001b[0m\u001b[0mmsg\u001b[0m\u001b[0;34m.\u001b[0m\u001b[0mencode\u001b[0m\u001b[0;34m(\u001b[0m\u001b[0;34m'utf-8'\u001b[0m\u001b[0;34m)\u001b[0m\u001b[0;34m)\u001b[0m \u001b[0;31m#发消息\u001b[0m\u001b[0;34m\u001b[0m\u001b[0m\n\u001b[0;32m---> 14\u001b[0;31m             \u001b[0mtime\u001b[0m\u001b[0;34m.\u001b[0m\u001b[0msleep\u001b[0m\u001b[0;34m(\u001b[0m\u001b[0;36m1\u001b[0m\u001b[0;34m)\u001b[0m\u001b[0;34m\u001b[0m\u001b[0m\n\u001b[0m\u001b[1;32m     15\u001b[0m             \u001b[0;31m#back_msg = sokt.recv(1024)\u001b[0m\u001b[0;34m\u001b[0m\u001b[0;34m\u001b[0m\u001b[0m\n\u001b[1;32m     16\u001b[0m             \u001b[0;31m#print(back_msg.decode('utf-8'))\u001b[0m\u001b[0;34m\u001b[0m\u001b[0;34m\u001b[0m\u001b[0m\n",
      "\u001b[0;31mKeyboardInterrupt\u001b[0m: "
     ]
    }
   ],
   "source": [
    "#msg1 = '23 23 02 fe 42 4a 53 52 44 5a 4e 4d 4b 56 31 30 31 30 30 31 39 01 00 4d 13 09 09 0b 1f 35 05 00 06 f1 67 a0 02 60 c7 b2 80 3b 66 39 67 6f 96 1c 19 80 40 00 00 00 20 18 16 00 00 00 00 01 20 18 16 00 00 00 00 01 1e 18 16 00 00 00 00 00 1e 18 16 00 00 00 00 01 1f 18 16 00 00 00 00 01 1f 18 16 00 00 6c fd bf'\n",
    "#msg2 = '23 23 02 fe 5f 56 53 41 49 4c 5f 54 45 53 54 5f 30 30 30 31 5f 01 00 2d 13 06 0f 0f 03 1d 05 00 06 f0 2f 20 02 61 0d f8 80 1b 66 19 01 02 03 04 05 06 07 00 00 00 00 00 00 00 00 00 00 29 25 00 00 00 00 83 fd 71'\n",
    "#msgs = [msg1, msg2]\n",
    "data_frame = pd.read_excel('vsail/test-data.xlsx', sheet_name='Sheet1')\n",
    "data_list = []\n",
    "for data in data_frame.data:\n",
    "   #data_list.append(data + '\\r\\n')\n",
    "   data_list.append(data)\n",
    "data_list.reverse()\n",
    "while True:\n",
    "    for msg in data_list:\n",
    "        for i in range(1):\n",
    "            sokt.send(msg.encode('utf-8')) #发消息\n",
    "            time.sleep(1)\n",
    "            #back_msg = sokt.recv(1024)\n",
    "            #print(back_msg.decode('utf-8'))"
   ]
  },
  {
   "cell_type": "code",
   "execution_count": 7,
   "metadata": {},
   "outputs": [
    {
     "data": {
      "text/plain": "4"
     },
     "execution_count": 7,
     "metadata": {},
     "output_type": "execute_result"
    }
   ],
   "source": [
    "exit_message = 'exit'\n",
    "sokt.send(exit_message.encode('utf-8'))"
   ]
  },
  {
   "cell_type": "code",
   "execution_count": 8,
   "metadata": {},
   "outputs": [],
   "source": [
    "sokt.shutdown(2)\n",
    "sokt.close()"
   ]
  },
  {
   "cell_type": "code",
   "execution_count": null,
   "metadata": {},
   "outputs": [],
   "source": []
  },
  {
   "cell_type": "code",
   "execution_count": null,
   "metadata": {},
   "outputs": [],
   "source": []
  }
 ],
 "metadata": {
  "kernelspec": {
   "display_name": "myjava",
   "language": "python",
   "name": "myjava"
  },
  "language_info": {
   "codemirror_mode": {
    "name": "ipython",
    "version": 3
   },
   "file_extension": ".py",
   "mimetype": "text/x-python",
   "name": "python",
   "nbconvert_exporter": "python",
   "pygments_lexer": "ipython3",
   "version": "3.7.0"
  }
 },
 "nbformat": 4,
 "nbformat_minor": 2
}