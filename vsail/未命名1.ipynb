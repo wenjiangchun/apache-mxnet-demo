{
 "cells": [
  {
   "cell_type": "code",
   "execution_count": 8,
   "metadata": {},
   "outputs": [],
   "source": [
    "from vsail_data_parser import VsailDataParser\n",
    "import datetime"
   ]
  },
  {
   "cell_type": "code",
   "execution_count": 9,
   "metadata": {},
   "outputs": [
    {
     "name": "stdout",
     "output_type": "stream",
     "text": [
      "3\n"
     ]
    }
   ],
   "source": [
    "day = datetime.date.today()\n",
    "print(day.weekday())"
   ]
  },
  {
   "cell_type": "code",
   "execution_count": 2,
   "metadata": {},
   "outputs": [],
   "source": [
    "data = '23 23 02 fe 42 4a 53 52 44 5a 4e 4d 4b 56 31 30 31 30 30 31 32 01 00 4d 13 09 12 11 32 04 05 00 06 f2 bd 80 02 60 24 56 80 3b 66 39 a0 6c 94 1d 1a 80 40 00 00 00 26 18 16 00 00 00 00 00 26 18 16 00 00 00 00 01 24 18 16 00 00 00 00 00 24 18 16 00 00 00 00 01 25 18 16 00 00 00 00 00 24 18 16 00 00 c3 fd 3d'"
   ]
  },
  {
   "cell_type": "code",
   "execution_count": 3,
   "metadata": {},
   "outputs": [],
   "source": [
    "parser = VsailDataParser(data)"
   ]
  },
  {
   "cell_type": "code",
   "execution_count": 4,
   "metadata": {},
   "outputs": [
    {
     "name": "stdout",
     "output_type": "stream",
     "text": [
      "True\n"
     ]
    }
   ],
   "source": [
    "print(parser.is_valid())"
   ]
  },
  {
   "cell_type": "code",
   "execution_count": 5,
   "metadata": {},
   "outputs": [
    {
     "name": "stdout",
     "output_type": "stream",
     "text": [
      "(116.57152, 39.85519)\n"
     ]
    }
   ],
   "source": [
    "print(parser.get_bus_position())"
   ]
  },
  {
   "cell_type": "code",
   "execution_count": 6,
   "metadata": {},
   "outputs": [
    {
     "name": "stdout",
     "output_type": "stream",
     "text": [
      "BJSRDZNMKV1010012\n"
     ]
    }
   ],
   "source": [
    "print(parser.get_bus_vin())"
   ]
  },
  {
   "cell_type": "code",
   "execution_count": 7,
   "metadata": {},
   "outputs": [
    {
     "name": "stdout",
     "output_type": "stream",
     "text": [
      "2019-09-18 17:50:04\n"
     ]
    }
   ],
   "source": [
    "print(parser.get_send_time())"
   ]
  },
  {
   "cell_type": "code",
   "execution_count": 8,
   "metadata": {},
   "outputs": [
    {
     "name": "stdout",
     "output_type": "stream",
     "text": [
      "['00', '00', '00', '26', '18', '16', '00', '00', '00', '00', '00', '26', '18', '16', '00', '00', '00', '00', '01', '24', '18', '16', '00', '00', '00', '00', '00', '24', '18', '16', '00', '00', '00', '00', '01', '25', '18', '16', '00', '00', '00', '00', '00', '24', '18', '16', '00', '00']\n"
     ]
    }
   ],
   "source": [
    "dts = data.split(' ')\n",
    "se = dts[51:len(dts)-3]\n",
    "print(se)"
   ]
  },
  {
   "cell_type": "code",
   "execution_count": 9,
   "metadata": {},
   "outputs": [
    {
     "name": "stdout",
     "output_type": "stream",
     "text": [
      "6\n",
      "['00', '00', '00', '26', '18', '16', '00', '00', '00', '00', '00', '26', '18', '16', '00', '00', '00', '00', '01', '24', '18', '16', '00', '00', '00', '00', '00', '24', '18', '16', '00', '00', '00', '00', '01', '25', '18', '16', '00', '00', '00', '00', '00', '24', '18', '16', '00', '00']\n",
      "([{'sn': 1, 'fire': '00000000', 'error': '00000000', 'concen': 0, 'temp': 38}, {'sn': 2, 'fire': '00000000', 'error': '00000000', 'concen': 0, 'temp': 38}, {'sn': 3, 'fire': '00000000', 'error': '00000000', 'concen': 4, 'temp': 36}, {'sn': 4, 'fire': '00000000', 'error': '00000000', 'concen': 0, 'temp': 36}, {'sn': 5, 'fire': '00000000', 'error': '00000000', 'concen': 4, 'temp': 37}, {'sn': 6, 'fire': '00000000', 'error': '00000000', 'concen': 0, 'temp': 36}], False, False)\n"
     ]
    }
   ],
   "source": [
    "print(parser.get_bus_sensores())"
   ]
  },
  {
   "cell_type": "code",
   "execution_count": null,
   "metadata": {},
   "outputs": [],
   "source": []
  }
 ],
 "metadata": {
  "kernelspec": {
   "display_name": "myjava",
   "language": "python",
   "name": "myjava"
  },
  "language_info": {
   "codemirror_mode": {
    "name": "ipython",
    "version": 3
   },
   "file_extension": ".py",
   "mimetype": "text/x-python",
   "name": "python",
   "nbconvert_exporter": "python",
   "pygments_lexer": "ipython3",
   "version": "3.7.0"
  }
 },
 "nbformat": 4,
 "nbformat_minor": 2
}
