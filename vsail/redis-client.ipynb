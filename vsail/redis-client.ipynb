{
 "cells": [
  {
   "cell_type": "code",
   "execution_count": 1,
   "metadata": {},
   "outputs": [],
   "source": [
    "import redis\n",
    "import sched\n",
    "import time\n",
    "import psycopg2 as pg\n",
    "import requests as req\n",
    "import logging\n",
    "import configparser\n",
    "import pika\n",
    "import base64\n",
    "import json\n",
    "from vsail_data_parser import VsailDataParser"
   ]
  },
  {
   "cell_type": "code",
   "execution_count": 2,
   "metadata": {},
   "outputs": [],
   "source": [
    "#该类作用：\n",
    "#       1 初始化从数据库中加载车辆基本信息和位置信息到缓存\n",
    "#       2 从rabbitMQ中监听队列，消费报文消息"
   ]
  },
  {
   "cell_type": "code",
   "execution_count": 3,
   "metadata": {},
   "outputs": [
    {
     "ename": "KeyboardInterrupt",
     "evalue": "",
     "output_type": "error",
     "traceback": [
      "\u001b[0;31m---------------------------------------------------------------------------\u001b[0m",
      "\u001b[0;31mKeyboardInterrupt\u001b[0m                         Traceback (most recent call last)",
      "\u001b[0;32m<ipython-input-3-8549e67215e9>\u001b[0m in \u001b[0;36m<module>\u001b[0;34m\u001b[0m\n\u001b[1;32m    122\u001b[0m \u001b[0;32mif\u001b[0m \u001b[0m__name__\u001b[0m \u001b[0;34m==\u001b[0m \u001b[0;34m'__main__'\u001b[0m\u001b[0;34m:\u001b[0m\u001b[0;34m\u001b[0m\u001b[0m\n\u001b[1;32m    123\u001b[0m     \u001b[0mredis_client\u001b[0m \u001b[0;34m=\u001b[0m \u001b[0mRedisClient\u001b[0m\u001b[0;34m(\u001b[0m\u001b[0;34m)\u001b[0m\u001b[0;34m\u001b[0m\u001b[0m\n\u001b[0;32m--> 124\u001b[0;31m     \u001b[0mredis_client\u001b[0m\u001b[0;34m.\u001b[0m\u001b[0mstartConsume\u001b[0m\u001b[0;34m(\u001b[0m\u001b[0;34m)\u001b[0m\u001b[0;34m\u001b[0m\u001b[0m\n\u001b[0m",
      "\u001b[0;32m<ipython-input-3-8549e67215e9>\u001b[0m in \u001b[0;36mstartConsume\u001b[0;34m(self)\u001b[0m\n\u001b[1;32m    111\u001b[0m         \u001b[0;32mtry\u001b[0m\u001b[0;34m:\u001b[0m\u001b[0;34m\u001b[0m\u001b[0m\n\u001b[1;32m    112\u001b[0m             \u001b[0mlogging\u001b[0m\u001b[0;34m.\u001b[0m\u001b[0minfo\u001b[0m\u001b[0;34m(\u001b[0m\u001b[0;34m'开始监听mq消息队列...'\u001b[0m\u001b[0;34m)\u001b[0m\u001b[0;34m\u001b[0m\u001b[0m\n\u001b[0;32m--> 113\u001b[0;31m             \u001b[0mchannel\u001b[0m\u001b[0;34m.\u001b[0m\u001b[0mstart_consuming\u001b[0m\u001b[0;34m(\u001b[0m\u001b[0;34m)\u001b[0m\u001b[0;34m\u001b[0m\u001b[0m\n\u001b[0m\u001b[1;32m    114\u001b[0m         \u001b[0;32mexcept\u001b[0m \u001b[0mException\u001b[0m \u001b[0;32mas\u001b[0m \u001b[0mex\u001b[0m\u001b[0;34m:\u001b[0m\u001b[0;34m\u001b[0m\u001b[0m\n\u001b[1;32m    115\u001b[0m             \u001b[0mprint\u001b[0m\u001b[0;34m(\u001b[0m\u001b[0mex\u001b[0m\u001b[0;34m)\u001b[0m\u001b[0;34m\u001b[0m\u001b[0m\n",
      "\u001b[0;32m/opt/anaconda3/envs/myjava/lib/python3.7/site-packages/pika/adapters/blocking_connection.py\u001b[0m in \u001b[0;36mstart_consuming\u001b[0;34m(self)\u001b[0m\n\u001b[1;32m   1864\u001b[0m         \u001b[0;32mwhile\u001b[0m \u001b[0mself\u001b[0m\u001b[0;34m.\u001b[0m\u001b[0m_consumer_infos\u001b[0m\u001b[0;34m:\u001b[0m\u001b[0;34m\u001b[0m\u001b[0m\n\u001b[1;32m   1865\u001b[0m             \u001b[0;31m# This will raise ChannelClosed if channel is closed by broker\u001b[0m\u001b[0;34m\u001b[0m\u001b[0;34m\u001b[0m\u001b[0m\n\u001b[0;32m-> 1866\u001b[0;31m             \u001b[0mself\u001b[0m\u001b[0;34m.\u001b[0m\u001b[0m_process_data_events\u001b[0m\u001b[0;34m(\u001b[0m\u001b[0mtime_limit\u001b[0m\u001b[0;34m=\u001b[0m\u001b[0;32mNone\u001b[0m\u001b[0;34m)\u001b[0m\u001b[0;34m\u001b[0m\u001b[0m\n\u001b[0m\u001b[1;32m   1867\u001b[0m \u001b[0;34m\u001b[0m\u001b[0m\n\u001b[1;32m   1868\u001b[0m     \u001b[0;32mdef\u001b[0m \u001b[0mstop_consuming\u001b[0m\u001b[0;34m(\u001b[0m\u001b[0mself\u001b[0m\u001b[0;34m,\u001b[0m \u001b[0mconsumer_tag\u001b[0m\u001b[0;34m=\u001b[0m\u001b[0;32mNone\u001b[0m\u001b[0;34m)\u001b[0m\u001b[0;34m:\u001b[0m\u001b[0;34m\u001b[0m\u001b[0m\n",
      "\u001b[0;32m/opt/anaconda3/envs/myjava/lib/python3.7/site-packages/pika/adapters/blocking_connection.py\u001b[0m in \u001b[0;36m_process_data_events\u001b[0;34m(self, time_limit)\u001b[0m\n\u001b[1;32m   2025\u001b[0m \u001b[0;34m\u001b[0m\u001b[0m\n\u001b[1;32m   2026\u001b[0m         \"\"\"\n\u001b[0;32m-> 2027\u001b[0;31m         \u001b[0mself\u001b[0m\u001b[0;34m.\u001b[0m\u001b[0mconnection\u001b[0m\u001b[0;34m.\u001b[0m\u001b[0mprocess_data_events\u001b[0m\u001b[0;34m(\u001b[0m\u001b[0mtime_limit\u001b[0m\u001b[0;34m=\u001b[0m\u001b[0mtime_limit\u001b[0m\u001b[0;34m)\u001b[0m\u001b[0;34m\u001b[0m\u001b[0m\n\u001b[0m\u001b[1;32m   2028\u001b[0m         if self.is_closed and isinstance(self._closing_reason,\n\u001b[1;32m   2029\u001b[0m                                          exceptions.ChannelClosedByBroker):\n",
      "\u001b[0;32m/opt/anaconda3/envs/myjava/lib/python3.7/site-packages/pika/adapters/blocking_connection.py\u001b[0m in \u001b[0;36mprocess_data_events\u001b[0;34m(self, time_limit)\u001b[0m\n\u001b[1;32m    823\u001b[0m                                               self._ready_events))\n\u001b[1;32m    824\u001b[0m             \u001b[0;32mif\u001b[0m \u001b[0mtime_limit\u001b[0m \u001b[0;32mis\u001b[0m \u001b[0;32mNone\u001b[0m\u001b[0;34m:\u001b[0m\u001b[0;34m\u001b[0m\u001b[0m\n\u001b[0;32m--> 825\u001b[0;31m                 \u001b[0mself\u001b[0m\u001b[0;34m.\u001b[0m\u001b[0m_flush_output\u001b[0m\u001b[0;34m(\u001b[0m\u001b[0mcommon_terminator\u001b[0m\u001b[0;34m)\u001b[0m\u001b[0;34m\u001b[0m\u001b[0m\n\u001b[0m\u001b[1;32m    826\u001b[0m             \u001b[0;32melse\u001b[0m\u001b[0;34m:\u001b[0m\u001b[0;34m\u001b[0m\u001b[0m\n\u001b[1;32m    827\u001b[0m                 \u001b[0;32mwith\u001b[0m \u001b[0m_IoloopTimerContext\u001b[0m\u001b[0;34m(\u001b[0m\u001b[0mtime_limit\u001b[0m\u001b[0;34m,\u001b[0m \u001b[0mself\u001b[0m\u001b[0;34m.\u001b[0m\u001b[0m_impl\u001b[0m\u001b[0;34m)\u001b[0m \u001b[0;32mas\u001b[0m \u001b[0mtimer\u001b[0m\u001b[0;34m:\u001b[0m\u001b[0;34m\u001b[0m\u001b[0m\n",
      "\u001b[0;32m/opt/anaconda3/envs/myjava/lib/python3.7/site-packages/pika/adapters/blocking_connection.py\u001b[0m in \u001b[0;36m_flush_output\u001b[0;34m(self, *waiters)\u001b[0m\n\u001b[1;32m    511\u001b[0m         \u001b[0;31m# Process I/O until our completion condition is satisfied\u001b[0m\u001b[0;34m\u001b[0m\u001b[0;34m\u001b[0m\u001b[0m\n\u001b[1;32m    512\u001b[0m         \u001b[0;32mwhile\u001b[0m \u001b[0;32mnot\u001b[0m \u001b[0mis_done\u001b[0m\u001b[0;34m(\u001b[0m\u001b[0;34m)\u001b[0m\u001b[0;34m:\u001b[0m\u001b[0;34m\u001b[0m\u001b[0m\n\u001b[0;32m--> 513\u001b[0;31m             \u001b[0mself\u001b[0m\u001b[0;34m.\u001b[0m\u001b[0m_impl\u001b[0m\u001b[0;34m.\u001b[0m\u001b[0mioloop\u001b[0m\u001b[0;34m.\u001b[0m\u001b[0mpoll\u001b[0m\u001b[0;34m(\u001b[0m\u001b[0;34m)\u001b[0m\u001b[0;34m\u001b[0m\u001b[0m\n\u001b[0m\u001b[1;32m    514\u001b[0m             \u001b[0mself\u001b[0m\u001b[0;34m.\u001b[0m\u001b[0m_impl\u001b[0m\u001b[0;34m.\u001b[0m\u001b[0mioloop\u001b[0m\u001b[0;34m.\u001b[0m\u001b[0mprocess_timeouts\u001b[0m\u001b[0;34m(\u001b[0m\u001b[0;34m)\u001b[0m\u001b[0;34m\u001b[0m\u001b[0m\n\u001b[1;32m    515\u001b[0m \u001b[0;34m\u001b[0m\u001b[0m\n",
      "\u001b[0;32m/opt/anaconda3/envs/myjava/lib/python3.7/site-packages/pika/adapters/select_connection.py\u001b[0m in \u001b[0;36mpoll\u001b[0;34m(self)\u001b[0m\n\u001b[1;32m    574\u001b[0m \u001b[0;34m\u001b[0m\u001b[0m\n\u001b[1;32m    575\u001b[0m         \"\"\"\n\u001b[0;32m--> 576\u001b[0;31m         \u001b[0mself\u001b[0m\u001b[0;34m.\u001b[0m\u001b[0m_poller\u001b[0m\u001b[0;34m.\u001b[0m\u001b[0mpoll\u001b[0m\u001b[0;34m(\u001b[0m\u001b[0;34m)\u001b[0m\u001b[0;34m\u001b[0m\u001b[0m\n\u001b[0m\u001b[1;32m    577\u001b[0m \u001b[0;34m\u001b[0m\u001b[0m\n\u001b[1;32m    578\u001b[0m \u001b[0;34m\u001b[0m\u001b[0m\n",
      "\u001b[0;32m/opt/anaconda3/envs/myjava/lib/python3.7/site-packages/pika/adapters/select_connection.py\u001b[0m in \u001b[0;36mpoll\u001b[0;34m(self)\u001b[0m\n\u001b[1;32m   1179\u001b[0m         \u001b[0;32mwhile\u001b[0m \u001b[0;32mTrue\u001b[0m\u001b[0;34m:\u001b[0m\u001b[0;34m\u001b[0m\u001b[0m\n\u001b[1;32m   1180\u001b[0m             \u001b[0;32mtry\u001b[0m\u001b[0;34m:\u001b[0m\u001b[0;34m\u001b[0m\u001b[0m\n\u001b[0;32m-> 1181\u001b[0;31m                 \u001b[0mevents\u001b[0m \u001b[0;34m=\u001b[0m \u001b[0mself\u001b[0m\u001b[0;34m.\u001b[0m\u001b[0m_poll\u001b[0m\u001b[0;34m.\u001b[0m\u001b[0mpoll\u001b[0m\u001b[0;34m(\u001b[0m\u001b[0mself\u001b[0m\u001b[0;34m.\u001b[0m\u001b[0m_get_max_wait\u001b[0m\u001b[0;34m(\u001b[0m\u001b[0;34m)\u001b[0m\u001b[0;34m)\u001b[0m\u001b[0;34m\u001b[0m\u001b[0m\n\u001b[0m\u001b[1;32m   1182\u001b[0m                 \u001b[0;32mbreak\u001b[0m\u001b[0;34m\u001b[0m\u001b[0m\n\u001b[1;32m   1183\u001b[0m             \u001b[0;32mexcept\u001b[0m \u001b[0m_SELECT_ERRORS\u001b[0m \u001b[0;32mas\u001b[0m \u001b[0merror\u001b[0m\u001b[0;34m:\u001b[0m\u001b[0;34m\u001b[0m\u001b[0m\n",
      "\u001b[0;31mKeyboardInterrupt\u001b[0m: "
     ]
    }
   ],
   "source": [
    "class RedisClient(object):\n",
    "    def __init__(self):\n",
    "        logging.basicConfig(filename=\"redis-client.log\", filemode=\"w\", format=\"%(asctime)s %(name)s:%(levelname)s:%(message)s\", datefmt=\"%Y-%M-%d %H:%M:%S\", level=logging.INFO)\n",
    "        self.parser = configparser.ConfigParser()\n",
    "        self.parser.read('application.ini')\n",
    "        logging.info('加载application.ini配置')\n",
    "        #获取redis配置信息\n",
    "        self.bus_pos_key = self.parser.get('redis', 'bus_pos_key')\n",
    "        self.syn_time = float(self.parser.get('redis', 'syn_time'))\n",
    "        #获取redis连接\n",
    "        self.rs_conn = self.init_redis()\n",
    "        #获取MQ连接\n",
    "        self.rq_conn = self.init_rabbitMq()\n",
    "        #获取DB连接\n",
    "        db_conn, db_curs = self.init_db()\n",
    "        logging.info('get bus info from postgresql') \n",
    "        try:\n",
    "            query_bus_sql = 'select b.id, b.create_time, b.vin, b.bus_num, b.driving_num, b.engine_num, b.motor_name, b.motor_num, b.regist_num, g.full_name, r.full_name as root_full_name from v_bus b left join sys_group g on b.group_id=g.id left join sys_group r on b.root_group_id=r.id where b.deleted=false'\n",
    "            #query_bus_pos = 'select id, ST_X(geom), ST_Y(geom), ST_M(geom), name, update_time from v_bus_pos'\n",
    "            db_curs.execute(query_bus_sql)\n",
    "            dataes = db_curs.fetchall()\n",
    "            for d in dataes:\n",
    "                bus = {}\n",
    "                vin = d[2]\n",
    "                bus['vin'] = d[2]\n",
    "                bus['id'] = d[0]\n",
    "                bus['create_time'] = str(d[1])\n",
    "                bus['bus_num'] = d[3]\n",
    "                bus['driving_num'] = d[4]\n",
    "                bus['engine_num'] = d[5]\n",
    "                bus['motor_name'] = d[6]\n",
    "                bus['motor_num'] = d[7]\n",
    "                bus['regist_num'] = d[8]\n",
    "                bus['group_name'] = d[9]\n",
    "                bus['root_group_name'] = d[10]\n",
    "                bus_key = 'bus_' + vin\n",
    "                for key, value in bus.items():\n",
    "                    self.rs_conn.hset(name= bus_key, key= key, value= value)\n",
    "            logging.info('从DB中加载车辆基本信息已成功')\n",
    "        except Exception as ex:\n",
    "            logging.exception('初始化缓存出错') \n",
    "            raise ex\n",
    "        finally:\n",
    "            db_curs.close()\n",
    "            db_conn.close()\n",
    "        logging.info('redis-client init success') \n",
    "    \n",
    "    def init_redis(self):\n",
    "        try:\n",
    "            pool = redis.ConnectionPool(host=self.parser.get('redis', 'host'),max_connections=1000)\n",
    "            rs_client = redis.Redis(connection_pool=pool)\n",
    "            rs_client.flushdb()\n",
    "            logging.info('redis已连接')\n",
    "            return rs_client\n",
    "        except Exception as ex:\n",
    "            logging.exception('redis初始化错误')\n",
    "            raise ex\n",
    "            \n",
    "    def init_db(self):\n",
    "        try:\n",
    "            pgconn = pg.connect(database = self.parser.get('postgresql', 'database'), user = self.parser.get('postgresql', 'user'), password = self.parser.get('postgresql', 'password'), host = self.parser.get('postgresql', 'host'))\n",
    "            curs = pgconn.cursor()\n",
    "            logging.info('postgresql已连接')\n",
    "            return pgconn, curs\n",
    "        except Exception as ex:\n",
    "            logging.exception('postgresql初始化错误') \n",
    "            raise ex\n",
    "    \n",
    "    def init_rabbitMq(self):\n",
    "        #初始化rabbitmq连接\n",
    "        try:\n",
    "            parameters = pika.ConnectionParameters(self.parser.get('rabbitmq', 'host'), credentials=pika.credentials.PlainCredentials('admin','admin'), heartbeat=0)\n",
    "            rq_connection = pika.BlockingConnection(parameters)\n",
    "            logging.info('rabbitmq已连接')\n",
    "            return rq_connection\n",
    "        except Exception as ex:\n",
    "            logging.exception('rabbitmq初始化错误') \n",
    "            raise ex\n",
    "    \n",
    "    def on_message(self, channel, method_frame, header_frame, body):\n",
    "        #res.set(str(method_frame.delivery_tag), str(method_frame.delivery_tag))\n",
    "        try:\n",
    "            channel.basic_ack(delivery_tag=method_frame.delivery_tag)\n",
    "            #channel.basic_ack(delivery_tag=method_frame.delivery_tag)\n",
    "            #TODO 处理消息 此处需要获取车辆机构信息(从缓存中直接获取，如果缓存中没有则直接存放新的临时数据)\n",
    "            #上线 下线既时更新数据库\n",
    "            #另外开启线程通知系统websocket\n",
    "            bus_data = str(body, encoding = \"utf-8\")\n",
    "            parser = VsailDataParser(bus_data)\n",
    "            d = parser.translate_to_json()\n",
    "            vin = d['vin']\n",
    "            self.rs_conn.hmset('bus_pos_' + vin, d)\n",
    "            #self.rs_conn.set('bus_pos_' + vin, bus_data)\n",
    "            #for key, value in d.items():\n",
    "                #self.rs_conn.hset(name= 'bus_pos_' + vin, key= key, value= str(value))\n",
    "                #key\n",
    "            try:\n",
    "                rest_url = 'http://localhost:8080/websocket/sendMessage?message='\n",
    "                #req.post(rest_url + base64.b64encode(body))\n",
    "            except Exception as ex:\n",
    "                #logging.exception('rest发送失败') \n",
    "                pass\n",
    "        except Exception as ex:\n",
    "            print(ex)\n",
    "            logging.exception('消息处理失败,忽略') \n",
    "            #raise ex\n",
    "        \n",
    "    def startConsume(self):\n",
    "        channel = self.rq_conn.channel()\n",
    "        #channel.basic_consume(self.parser.get('rabbitmq', 'redis_queue_name'), self.on_message)\n",
    "        channel.basic_consume('bus-db', self.on_message)\n",
    "        try:\n",
    "            logging.info('开始监听mq消息队列...')  \n",
    "            channel.start_consuming()\n",
    "        except Exception as ex:\n",
    "            print(ex)\n",
    "            channel.stop_consuming()\n",
    "            logging.exception('mq任务监听失败') \n",
    "        finally:\n",
    "            self.rq_conn.close()\n",
    "            self.rs_conn.close()\n",
    "            \n",
    "if __name__ == '__main__':\n",
    "    redis_client = RedisClient()\n",
    "    redis_client.startConsume()"
   ]
  },
  {
   "cell_type": "code",
   "execution_count": 7,
   "metadata": {},
   "outputs": [],
   "source": [
    "import json"
   ]
  },
  {
   "cell_type": "code",
   "execution_count": 8,
   "metadata": {},
   "outputs": [
    {
     "ename": "TypeError",
     "evalue": "dump() missing 1 required positional argument: 'fp'",
     "output_type": "error",
     "traceback": [
      "\u001b[0;31m---------------------------------------------------------------------------\u001b[0m",
      "\u001b[0;31mTypeError\u001b[0m                                 Traceback (most recent call last)",
      "\u001b[0;32m<ipython-input-8-393b18f7eda9>\u001b[0m in \u001b[0;36m<module>\u001b[0;34m\u001b[0m\n\u001b[0;32m----> 1\u001b[0;31m \u001b[0ma\u001b[0m \u001b[0;34m=\u001b[0m \u001b[0mjson\u001b[0m\u001b[0;34m.\u001b[0m\u001b[0mdump\u001b[0m\u001b[0;34m(\u001b[0m\u001b[0;34m'{\"name\":\"zhangsan\"}'\u001b[0m\u001b[0;34m)\u001b[0m\u001b[0;34m\u001b[0m\u001b[0m\n\u001b[0m",
      "\u001b[0;31mTypeError\u001b[0m: dump() missing 1 required positional argument: 'fp'"
     ]
    }
   ],
   "source": [
    "a = json.dump('{\"name\":\"zhangsan\"}')"
   ]
  },
  {
   "cell_type": "code",
   "execution_count": 10,
   "metadata": {},
   "outputs": [
    {
     "ename": "AttributeError",
     "evalue": "'dict' object has no attribute 'read'",
     "output_type": "error",
     "traceback": [
      "\u001b[0;31m---------------------------------------------------------------------------\u001b[0m",
      "\u001b[0;31mAttributeError\u001b[0m                            Traceback (most recent call last)",
      "\u001b[0;32m<ipython-input-10-bc4c6f201506>\u001b[0m in \u001b[0;36m<module>\u001b[0;34m\u001b[0m\n\u001b[0;32m----> 1\u001b[0;31m \u001b[0mjson\u001b[0m\u001b[0;34m.\u001b[0m\u001b[0mload\u001b[0m\u001b[0;34m(\u001b[0m\u001b[0;34m{\u001b[0m\u001b[0;34m\"name\"\u001b[0m\u001b[0;34m:\u001b[0m\u001b[0;34m\"zhangsan\"\u001b[0m\u001b[0;34m}\u001b[0m\u001b[0;34m)\u001b[0m\u001b[0;34m\u001b[0m\u001b[0m\n\u001b[0m",
      "\u001b[0;32m/opt/anaconda3/envs/myjava/lib/python3.7/json/__init__.py\u001b[0m in \u001b[0;36mload\u001b[0;34m(fp, cls, object_hook, parse_float, parse_int, parse_constant, object_pairs_hook, **kw)\u001b[0m\n\u001b[1;32m    291\u001b[0m     \u001b[0mkwarg\u001b[0m\u001b[0;34m;\u001b[0m \u001b[0motherwise\u001b[0m\u001b[0;31m \u001b[0m\u001b[0;31m`\u001b[0m\u001b[0;31m`\u001b[0m\u001b[0mJSONDecoder\u001b[0m\u001b[0;31m`\u001b[0m\u001b[0;31m`\u001b[0m \u001b[0;32mis\u001b[0m \u001b[0mused\u001b[0m\u001b[0;34m.\u001b[0m\u001b[0;34m\u001b[0m\u001b[0m\n\u001b[1;32m    292\u001b[0m     \"\"\"\n\u001b[0;32m--> 293\u001b[0;31m     return loads(fp.read(),\n\u001b[0m\u001b[1;32m    294\u001b[0m         \u001b[0mcls\u001b[0m\u001b[0;34m=\u001b[0m\u001b[0mcls\u001b[0m\u001b[0;34m,\u001b[0m \u001b[0mobject_hook\u001b[0m\u001b[0;34m=\u001b[0m\u001b[0mobject_hook\u001b[0m\u001b[0;34m,\u001b[0m\u001b[0;34m\u001b[0m\u001b[0m\n\u001b[1;32m    295\u001b[0m         \u001b[0mparse_float\u001b[0m\u001b[0;34m=\u001b[0m\u001b[0mparse_float\u001b[0m\u001b[0;34m,\u001b[0m \u001b[0mparse_int\u001b[0m\u001b[0;34m=\u001b[0m\u001b[0mparse_int\u001b[0m\u001b[0;34m,\u001b[0m\u001b[0;34m\u001b[0m\u001b[0m\n",
      "\u001b[0;31mAttributeError\u001b[0m: 'dict' object has no attribute 'read'"
     ]
    }
   ],
   "source": [
    "json.load({\"name\":\"zhangsan\"})"
   ]
  },
  {
   "cell_type": "code",
   "execution_count": null,
   "metadata": {},
   "outputs": [],
   "source": []
  }
 ],
 "metadata": {
  "kernelspec": {
   "display_name": "myjava",
   "language": "python",
   "name": "myjava"
  },
  "language_info": {
   "codemirror_mode": {
    "name": "ipython",
    "version": 3
   },
   "file_extension": ".py",
   "mimetype": "text/x-python",
   "name": "python",
   "nbconvert_exporter": "python",
   "pygments_lexer": "ipython3",
   "version": "3.7.0"
  }
 },
 "nbformat": 4,
 "nbformat_minor": 2
}
